{
 "cells": [
  {
   "cell_type": "code",
   "execution_count": 43,
   "metadata": {
    "collapsed": false
   },
   "outputs": [
    {
     "data": {
      "image/png": "[encoded data removed]",
      "text/plain": [
       "<matplotlib.figure.Figure at 0x7fb1da75bd90>"
      ]
     },
     "metadata": {},
     "output_type": "display_data"
    }
   ],
   "source": [
    "import numpy as np\n",
    "\n",
    "def f_testset_word_count(testset):                                     #测试集的词数统计\n",
    "    '''reture the sum of words in testset which is the denominator of the formula of Perplexity'''\n",
    "    return (len(testset.split()))\n",
    "\n",
    "\n",
    "def graph_draw(topic,perplexity):             #做主题数与困惑度的折线图\n",
    "    x=topic\n",
    "    y=perplexity\n",
    "    plt.plot(x,y,marker=\"*\",color=\"red\",linewidth=2)\n",
    "    plt.xlabel(\"Number of Topic\")\n",
    "    plt.ylabel(\"Perplexity\")\n",
    "    plt.show()\n",
    "\n",
    "\n",
    "phi = np.loadtxt('test_data/model-final.phi')\n",
    "word_topic = {}\n",
    "f = open('test_data/model-final.tassign')\n",
    "patterns = f.read().split()\n",
    "f = open('test_data/model-final.tassign')\n",
    "testset_word_count = f_testset_word_count(f.read())\n",
    "\n",
    "# 用作循环\n",
    "topic=[]\n",
    "perplexity_list=[]\n",
    "\n",
    "topic.append(10)\n",
    "for pattern in patterns:\n",
    "    word = int(pattern.split(':')[0])\n",
    "    topic = int(pattern.split(':')[1])\n",
    "    pattern = pattern.replace(':','_')\n",
    "    if not word_topic.has_key(pattern)==True:\n",
    "        word_topic[pattern] = phi[topic][word]\n",
    "\n",
    "duishu = 0.0\n",
    "for frequency in word_topic.values():\n",
    "    duishu += -math.log(frequency)\n",
    "kuohaoli = duishu/testset_word_count\n",
    "perplexity = math.exp(kuohaoli)\n",
    "perplexity_list.append(perplexity)\n",
    "\n",
    "graph_draw(topic,perplexity_list)"
   ]
  },
  {
   "cell_type": "code",
   "execution_count": 36,
   "metadata": {
    "collapsed": false
   },
   "outputs": [
    {
     "data": {
      "text/plain": [
       "0.0074592503913800002"
      ]
     },
     "execution_count": 36,
     "metadata": {},
     "output_type": "execute_result"
    }
   ],
   "source": [
    "phi[7][0]"
   ]
  },
  {
   "cell_type": "code",
   "execution_count": null,
   "metadata": {
    "collapsed": true
   },
   "outputs": [],
   "source": []
  }
 ],
 "metadata": {
  "kernelspec": {
   "display_name": "Python 2",
   "language": "python",
   "name": "python2"
  },
  "language_info": {
   "codemirror_mode": {
    "name": "ipython",
    "version": 2
   },
   "file_extension": ".py",
   "mimetype": "text/x-python",
   "name": "python",
   "nbconvert_exporter": "python",
   "pygments_lexer": "ipython2",
   "version": "2.7.13"
  }
 },
 "nbformat": 4,
 "nbformat_minor": 2
}
