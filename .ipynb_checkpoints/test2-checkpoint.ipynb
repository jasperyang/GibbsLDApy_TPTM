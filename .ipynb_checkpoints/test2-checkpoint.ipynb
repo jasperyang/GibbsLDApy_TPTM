{
 "cells": [
  {
   "cell_type": "code",
   "execution_count": null,
   "metadata": {
    "collapsed": false
   },
   "outputs": [
    {
     "name": "stdout",
     "output_type": "stream",
     "text": [
      "util init\n",
      "util init\n"
     ]
    }
   ],
   "source": [
    "import sys\n",
    "sys.path.append('GibbsLDApy_TPTM/')\n",
    "from Model import *\n",
    "from TPTM import *\n",
    "'''test of model'''\n",
    "argv = ['-est', '-alpha', '0.5', '-beta', '0.1', '-ntopics', '10', '-niters',\n",
    "        '100', '-savestep', '1', '-twords', '20', '-dfile', 'trndocs.dat', '-dir', 'test_data/',\n",
    "        '-model', 'testmodel','-split_num','10']\n",
    "lda = Model()\n",
    "lda.init(len(argv),argv)\n",
    "tp = TPTM(10,10,10000,lda.nw,lda.ut)\n",
    "tp.load_stage_data()\n",
    "lda.z"
   ]
  },
  {
   "cell_type": "code",
   "execution_count": 4,
   "metadata": {
    "collapsed": false
   },
   "outputs": [
    {
     "ename": "NameError",
     "evalue": "name 'danmu' is not defined",
     "output_type": "error",
     "traceback": [
      "\u001b[0;31m\u001b[0m",
      "\u001b[0;31mNameError\u001b[0mTraceback (most recent call last)",
      "\u001b[0;32m<ipython-input-4-fd2388c0ca8c>\u001b[0m in \u001b[0;36m<module>\u001b[0;34m()\u001b[0m\n\u001b[1;32m      5\u001b[0m \u001b[0m_comments\u001b[0m \u001b[0;34m=\u001b[0m \u001b[0;34m[\u001b[0m\u001b[0;34m]\u001b[0m\u001b[0;34m\u001b[0m\u001b[0m\n\u001b[1;32m      6\u001b[0m \u001b[0;31m# 读取文件，分析后存储到 user 和 comments\u001b[0m\u001b[0;34m\u001b[0m\u001b[0;34m\u001b[0m\u001b[0m\n\u001b[0;32m----> 7\u001b[0;31m \u001b[0;32mfor\u001b[0m \u001b[0mline\u001b[0m \u001b[0;32min\u001b[0m \u001b[0mdanmu\u001b[0m\u001b[0;34m.\u001b[0m\u001b[0mreadlines\u001b[0m\u001b[0;34m(\u001b[0m\u001b[0;34m)\u001b[0m\u001b[0;34m[\u001b[0m\u001b[0;34m:\u001b[0m\u001b[0;34m-\u001b[0m\u001b[0;36m1\u001b[0m\u001b[0;34m]\u001b[0m\u001b[0;34m:\u001b[0m\u001b[0;34m\u001b[0m\u001b[0m\n\u001b[0m\u001b[1;32m      8\u001b[0m     \u001b[0mstart\u001b[0m \u001b[0;34m=\u001b[0m \u001b[0mline\u001b[0m\u001b[0;34m.\u001b[0m\u001b[0mfind\u001b[0m\u001b[0;34m(\u001b[0m\u001b[0;34m'p='\u001b[0m\u001b[0;34m)\u001b[0m\u001b[0;34m\u001b[0m\u001b[0m\n\u001b[1;32m      9\u001b[0m     \u001b[0mstop\u001b[0m \u001b[0;34m=\u001b[0m \u001b[0mline\u001b[0m\u001b[0;34m.\u001b[0m\u001b[0mfind\u001b[0m\u001b[0;34m(\u001b[0m\u001b[0;34m'\">'\u001b[0m\u001b[0;34m)\u001b[0m\u001b[0;34m\u001b[0m\u001b[0m\n",
      "\u001b[0;31mNameError\u001b[0m: name 'danmu' is not defined"
     ]
    }
   ],
   "source": [
    "danmu = open(danmu_dir)\n",
    "# stopwords 读取\n",
    "stopwords = {}.fromkeys([line.rstrip().decode('utf-8') for line in open('data/stopwords.txt')])\n",
    "\n",
    "comments = []\n",
    "_comments = []\n",
    "# 读取文件，分析后存储到 user 和 comments\n",
    "for line in danmu.readlines()[:-1]:\n",
    "    start = line.find('p=')\n",
    "    stop = line.find('\">')\n",
    "    sub1 = line[start + 3:stop]\n",
    "    t = sub1.split(',')[0]\n",
    "    sub1 = sub1.split(',')[6]\n",
    "    start = line.find('\">')\n",
    "    stop = line.find('</d>')\n",
    "    sub2 = line[start + 2:stop].decode('utf-8')\n",
    "    comments.append((float(t), sub2))\n",
    "    _comments.append((float(t), sub1, sub2))\n",
    "\n",
    "# 排序，分割comments ---> shots\n",
    "comments = sorted(self.comments)"
   ]
  },
  {
   "cell_type": "code",
   "execution_count": null,
   "metadata": {
    "collapsed": true
   },
   "outputs": [],
   "source": []
  }
 ],
 "metadata": {
  "kernelspec": {
   "display_name": "Python 2",
   "language": "python",
   "name": "python2"
  },
  "language_info": {
   "codemirror_mode": {
    "name": "ipython",
    "version": 2
   },
   "file_extension": ".py",
   "mimetype": "text/x-python",
   "name": "python",
   "nbconvert_exporter": "python",
   "pygments_lexer": "ipython2",
   "version": "2.7.13"
  }
 },
 "nbformat": 4,
 "nbformat_minor": 2
}
